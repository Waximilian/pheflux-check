{
 "cells": [
  {
   "cell_type": "code",
   "execution_count": 4,
   "id": "71f682e9-eeeb-443e-b378-40e140488a29",
   "metadata": {},
   "outputs": [],
   "source": [
    "import pheflux\n",
    "import cobra\n",
    "\n",
    "input = \"../data/data_frame_8_Bs.csv\"\n",
    "mediumFile =\"../data/mediums/Bsubtilis_Medium_succ+glcL.csv\"\n",
    "network = \"../data/gems/iYO844.xml\"\n"
   ]
  },
  {
   "cell_type": "code",
   "execution_count": 5,
   "id": "1434f887-dee1-4921-a633-11efcf6c65e4",
   "metadata": {},
   "outputs": [],
   "source": [
    "model_default = cobra.io.read_sbml_model(network)\n"
   ]
  },
  {
   "cell_type": "code",
   "execution_count": 6,
   "id": "48dfc96e-c2f9-4c53-b36a-f91558776f9d",
   "metadata": {},
   "outputs": [],
   "source": [
    "model=pheflux.updateModel(model_default,mediumFile)"
   ]
  },
  {
   "cell_type": "code",
   "execution_count": 7,
   "id": "6f05e319-85dc-4444-8eb2-43dc41344bc7",
   "metadata": {},
   "outputs": [
    {
     "data": {
      "text/html": [
       "\n",
       "        <table>\n",
       "            <tr>\n",
       "                <td><strong>Reaction identifier</strong></td><td>R_EX_glc__D_e</td>\n",
       "            </tr><tr>\n",
       "                <td><strong>Name</strong></td><td>D-Glucose exchange</td>\n",
       "            </tr><tr>\n",
       "                <td><strong>Memory address</strong></td>\n",
       "                <td>0x7f369f7075e0</td>\n",
       "            </tr><tr>\n",
       "                <td><strong>Stoichiometry</strong></td>\n",
       "                <td>\n",
       "                    <p style='text-align:right'>glc__D_e --></p>\n",
       "                    <p style='text-align:right'>D-Glucose --></p>\n",
       "                </td>\n",
       "            </tr><tr>\n",
       "                <td><strong>GPR</strong></td><td></td>\n",
       "            </tr><tr>\n",
       "                <td><strong>Lower bound</strong></td><td>0</td>\n",
       "            </tr><tr>\n",
       "                <td><strong>Upper bound</strong></td><td>1000</td>\n",
       "            </tr>\n",
       "        </table>\n",
       "        "
      ],
      "text/plain": [
       "<Reaction R_EX_glc__D_e at 0x7f369f7075e0>"
      ]
     },
     "execution_count": 7,
     "metadata": {},
     "output_type": "execute_result"
    }
   ],
   "source": [
    "model.reactions.R_EX_glc__D_e"
   ]
  },
  {
   "cell_type": "code",
   "execution_count": 8,
   "id": "a6d2d442-d9f3-4402-8db4-6b9319e0d1f1",
   "metadata": {},
   "outputs": [
    {
     "data": {
      "text/html": [
       "\n",
       "        <table>\n",
       "            <tr>\n",
       "                <td><strong>Reaction identifier</strong></td><td>R_EX_succ_e</td>\n",
       "            </tr><tr>\n",
       "                <td><strong>Name</strong></td><td>Succinate exchange</td>\n",
       "            </tr><tr>\n",
       "                <td><strong>Memory address</strong></td>\n",
       "                <td>0x7f369f707dc0</td>\n",
       "            </tr><tr>\n",
       "                <td><strong>Stoichiometry</strong></td>\n",
       "                <td>\n",
       "                    <p style='text-align:right'>succ_e <=></p>\n",
       "                    <p style='text-align:right'>Succinate <=></p>\n",
       "                </td>\n",
       "            </tr><tr>\n",
       "                <td><strong>GPR</strong></td><td></td>\n",
       "            </tr><tr>\n",
       "                <td><strong>Lower bound</strong></td><td>-1000</td>\n",
       "            </tr><tr>\n",
       "                <td><strong>Upper bound</strong></td><td>1000</td>\n",
       "            </tr>\n",
       "        </table>\n",
       "        "
      ],
      "text/plain": [
       "<Reaction R_EX_succ_e at 0x7f369f707dc0>"
      ]
     },
     "execution_count": 8,
     "metadata": {},
     "output_type": "execute_result"
    }
   ],
   "source": [
    "model.reactions.R_EX_succ_e"
   ]
  },
  {
   "cell_type": "code",
   "execution_count": 10,
   "id": "00779212-4c3e-4a35-aa5f-9ceb1f0e64ea",
   "metadata": {},
   "outputs": [
    {
     "data": {
      "text/html": [
       "\n",
       "        <table>\n",
       "            <tr>\n",
       "                <td><strong>Reaction identifier</strong></td><td>R_EX_glu__L_e</td>\n",
       "            </tr><tr>\n",
       "                <td><strong>Name</strong></td><td>L-Glutamate exchange</td>\n",
       "            </tr><tr>\n",
       "                <td><strong>Memory address</strong></td>\n",
       "                <td>0x7f36a05413f0</td>\n",
       "            </tr><tr>\n",
       "                <td><strong>Stoichiometry</strong></td>\n",
       "                <td>\n",
       "                    <p style='text-align:right'>glu__L_e <=></p>\n",
       "                    <p style='text-align:right'>L-Glutamate <=></p>\n",
       "                </td>\n",
       "            </tr><tr>\n",
       "                <td><strong>GPR</strong></td><td></td>\n",
       "            </tr><tr>\n",
       "                <td><strong>Lower bound</strong></td><td>-1000</td>\n",
       "            </tr><tr>\n",
       "                <td><strong>Upper bound</strong></td><td>1000</td>\n",
       "            </tr>\n",
       "        </table>\n",
       "        "
      ],
      "text/plain": [
       "<Reaction R_EX_glu__L_e at 0x7f36a05413f0>"
      ]
     },
     "execution_count": 10,
     "metadata": {},
     "output_type": "execute_result"
    }
   ],
   "source": [
    "model.reactions.R_EX_glu__L_e"
   ]
  },
  {
   "cell_type": "code",
   "execution_count": 11,
   "id": "cedd9b48-a79a-4cc0-8396-59fa38410955",
   "metadata": {},
   "outputs": [
    {
     "data": {
      "text/plain": [
       "{'R_EX_fe3_e': 1000,\n",
       " 'R_EX_glu__L_e': 1000,\n",
       " 'R_EX_ca2_e': 1000,\n",
       " 'R_EX_so4_e': 1000,\n",
       " 'R_EX_co2_e': 1000,\n",
       " 'R_EX_succ_e': 1000,\n",
       " 'R_EX_h2o_e': 1000,\n",
       " 'R_EX_k_e': 1000,\n",
       " 'R_EX_mg2_e': 1000,\n",
       " 'R_EX_nh4_e': 1000,\n",
       " 'R_EX_pi_e': 1000}"
      ]
     },
     "execution_count": 11,
     "metadata": {},
     "output_type": "execute_result"
    }
   ],
   "source": [
    "model.medium"
   ]
  },
  {
   "cell_type": "code",
   "execution_count": null,
   "id": "a39e5814-7b27-408f-be68-af241e61372f",
   "metadata": {},
   "outputs": [],
   "source": []
  }
 ],
 "metadata": {
  "kernelspec": {
   "display_name": "Python 3 (ipykernel)",
   "language": "python",
   "name": "python3"
  },
  "language_info": {
   "codemirror_mode": {
    "name": "ipython",
    "version": 3
   },
   "file_extension": ".py",
   "mimetype": "text/x-python",
   "name": "python",
   "nbconvert_exporter": "python",
   "pygments_lexer": "ipython3",
   "version": "3.10.12"
  }
 },
 "nbformat": 4,
 "nbformat_minor": 5
}
